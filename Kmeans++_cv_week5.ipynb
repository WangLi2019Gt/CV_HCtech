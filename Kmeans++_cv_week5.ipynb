{
 "cells": [
  {
   "cell_type": "code",
   "execution_count": 1,
   "metadata": {},
   "outputs": [],
   "source": [
    "import numpy as np\n",
    "\n",
    "def generate_data():\n",
    "    # 本函数生成0-9，10个数字的图片矩阵\n",
    "    image_data=[]\n",
    "    num_0 = np.array(\n",
    "    [[0,0,1,1,0,0],\n",
    "    [0,1,0,0,1,0],\n",
    "    [0,1,0,0,1,0],\n",
    "    [0,1,0,0,1,0],\n",
    "    [0,0,1,1,0,0],\n",
    "    [0,0,0,0,0,0]])\n",
    "    image_data.append(num_0)\n",
    "    num_1 = np.array(\n",
    "    [[0,0,0,1,0,0],\n",
    "    [0,0,1,1,0,0],\n",
    "    [0,0,0,1,0,0],\n",
    "    [0,0,0,1,0,0],\n",
    "    [0,0,1,1,1,0],\n",
    "    [0,0,0,0,0,0]])\n",
    "    image_data.append(num_1)\n",
    "    num_2 = np.array(\n",
    "    [[0,0,1,1,0,0],\n",
    "    [0,1,0,0,1,0],\n",
    "    [0,0,0,1,0,0],\n",
    "    [0,0,1,0,0,0],\n",
    "    [0,1,1,1,1,0],\n",
    "    [0,0,0,0,0,0]])\n",
    "    image_data.append(num_2)\n",
    "    num_3 = np.array(\n",
    "    [[0,0,1,1,0,0],\n",
    "    [0,0,0,0,1,0],\n",
    "    [0,0,1,1,0,0],\n",
    "    [0,0,0,0,1,0],\n",
    "    [0,0,1,1,0,0],\n",
    "    [0,0,0,0,0,0]])\n",
    "    image_data.append(num_3)\n",
    "    num_4 = np.array(\n",
    "    [\n",
    "    [0,0,0,0,1,0],\n",
    "    [0,0,0,1,1,0],\n",
    "    [0,0,1,0,1,0],\n",
    "    [0,1,1,1,1,1],\n",
    "    [0,0,0,0,1,0],\n",
    "    [0,0,0,0,0,0]])\n",
    "    image_data.append(num_4)\n",
    "    num_5 = np.array(\n",
    "    [\n",
    "    [0,1,1,1,0,0],\n",
    "    [0,1,0,0,0,0],\n",
    "    [0,1,1,1,0,0],\n",
    "    [0,0,0,0,1,0],\n",
    "    [0,1,1,1,0,0],\n",
    "    [0,0,0,0,0,0]])\n",
    "    image_data.append(num_5)\n",
    "    num_6 = np.array(\n",
    "    [[0,0,1,1,0,0],\n",
    "    [0,1,0,0,0,0],\n",
    "    [0,1,1,1,0,0],\n",
    "    [0,1,0,0,1,0],\n",
    "    [0,0,1,1,0,0],\n",
    "    [0,0,0,0,0,0]])\n",
    "    image_data.append(num_6)\n",
    "    num_7 = np.array(\n",
    "    [\n",
    "    [0,1,1,1,1,0],\n",
    "    [0,0,0,0,1,0],\n",
    "    [0,0,0,1,0,0],\n",
    "    [0,0,0,1,0,0],\n",
    "    [0,0,0,1,0,0],\n",
    "    [0,0,0,0,0,0]])\n",
    "    image_data.append(num_7)\n",
    "    num_8 = np.array(\n",
    "    [[0,0,1,1,0,0],\n",
    "    [0,1,0,0,1,0],\n",
    "    [0,0,1,1,0,0],\n",
    "    [0,1,0,0,1,0],\n",
    "    [0,0,1,1,0,0],\n",
    "    [0,0,0,0,0,0]])\n",
    "    image_data.append(num_8)\n",
    "    num_9 = np.array(\n",
    "    [[0,0,1,1,1,0],\n",
    "    [0,1,0,0,1,0],\n",
    "    [0,0,1,1,1,0],\n",
    "    [0,0,0,0,1,0],\n",
    "    [0,0,0,0,1,0],\n",
    "    [0,0,0,0,0,0]])\n",
    "    image_data.append(num_9)\n",
    "    return image_data"
   ]
  },
  {
   "cell_type": "code",
   "execution_count": 2,
   "metadata": {},
   "outputs": [],
   "source": [
    "def get_feature(x):\n",
    "    return np.sum(x,0)"
   ]
  },
  {
   "cell_type": "code",
   "execution_count": 3,
   "metadata": {},
   "outputs": [
    {
     "name": "stdout",
     "output_type": "stream",
     "text": [
      "[[0 3 2 2 3 0]\n",
      " [0 0 2 5 1 0]\n",
      " [0 2 3 3 2 0]\n",
      " [0 0 3 3 2 0]\n",
      " [0 1 2 2 5 1]\n",
      " [0 4 3 3 1 0]\n",
      " [0 3 3 3 1 0]\n",
      " [0 1 1 4 2 0]\n",
      " [0 2 3 3 2 0]\n",
      " [0 1 2 2 5 0]]\n"
     ]
    }
   ],
   "source": [
    "img=generate_data()\n",
    "all_feature = []\n",
    "for i in img:\n",
    "    all_feature.append(get_feature(i))\n",
    "all_feature=np.array(all_feature)\n",
    "print(all_feature)"
   ]
  },
  {
   "cell_type": "code",
   "execution_count": 4,
   "metadata": {},
   "outputs": [
    {
     "name": "stdout",
     "output_type": "stream",
     "text": [
      "[0.  1.7 2.4 3.  2.4 0.1]\n"
     ]
    }
   ],
   "source": [
    "c0=np.mean(all_feature,0)\n",
    "print(c0)"
   ]
  },
  {
   "cell_type": "code",
   "execution_count": 5,
   "metadata": {},
   "outputs": [
    {
     "name": "stdout",
     "output_type": "stream",
     "text": [
      "[1.79443584 3.00333148 0.78740079 1.8493242  3.03644529 2.76043475\n",
      " 2.00499377 1.90262976 0.78740079 2.90172363]\n"
     ]
    }
   ],
   "source": [
    "distance0=np.linalg.norm(all_feature-c0,axis=1)\n",
    "print(distance0)"
   ]
  },
  {
   "cell_type": "code",
   "execution_count": 6,
   "metadata": {},
   "outputs": [
    {
     "name": "stdout",
     "output_type": "stream",
     "text": [
      "[0 1 2 2 5 1]\n"
     ]
    }
   ],
   "source": [
    "c1=all_feature[np.argmax(distance0)]\n",
    "print(c1)"
   ]
  },
  {
   "cell_type": "code",
   "execution_count": 7,
   "metadata": {},
   "outputs": [
    {
     "name": "stdout",
     "output_type": "stream",
     "text": [
      "[1.79443584 3.00333148 0.78740079 1.8493242  3.03644529 2.76043475\n",
      " 2.00499377 1.90262976 0.78740079 2.90172363]\n",
      "[3.         5.19615242 3.60555128 3.60555128 0.         5.29150262\n",
      " 4.79583152 3.87298335 3.60555128 1.        ]\n"
     ]
    }
   ],
   "source": [
    "distance0=np.linalg.norm(all_feature-c0,axis=1)\n",
    "print(distance0)\n",
    "distance1=np.linalg.norm(all_feature-c1,axis=1)\n",
    "print(distance1)"
   ]
  },
  {
   "cell_type": "code",
   "execution_count": 8,
   "metadata": {},
   "outputs": [
    {
     "name": "stdout",
     "output_type": "stream",
     "text": [
      "[0 0 2 5 1 0]\n"
     ]
    }
   ],
   "source": [
    "c2=all_feature[np.argmax(distance0+distance1)]\n",
    "print(c2)"
   ]
  },
  {
   "cell_type": "code",
   "execution_count": 9,
   "metadata": {},
   "outputs": [
    {
     "name": "stdout",
     "output_type": "stream",
     "text": [
      "[0 2 0 0 1 0 0 0 0 1]\n",
      "[0 2 0 0 1 0 0 2 0 1]\n",
      "[0 2 0 2 1 0 0 2 0 1]\n",
      "[0 2 0 2 1 0 0 2 0 1]\n",
      "result no change\n"
     ]
    }
   ],
   "source": [
    "iters=2000\n",
    "result=np.zeros(10)\n",
    "for i in range(iters):\n",
    "    distance= np.array([np.linalg.norm(all_feature-c0,axis=1),\n",
    "                    np.linalg.norm(all_feature-c1,axis=1),\n",
    "                    np.linalg.norm(all_feature-c2,axis=1)])\n",
    "    cluster = np.argmin(distance,axis=0)\n",
    "    if (cluster == result).all():\n",
    "        print(cluster)\n",
    "        print(\"result no change\")\n",
    "        break\n",
    "    print(cluster)\n",
    "    cluster0=[]\n",
    "    cluster1=[]\n",
    "    cluster2=[]\n",
    "    index=np.argwhere(cluster==0)\n",
    "    for i in index:\n",
    "        cluster0.append(all_feature[i])\n",
    "    index=np.argwhere(cluster==1)\n",
    "    for i in index:\n",
    "        cluster1.append(all_feature[i])\n",
    "    index=np.argwhere(cluster==2)\n",
    "    for i in index:\n",
    "        cluster2.append(all_feature[i])\n",
    "    c0_old=c0\n",
    "    c1_old=c1\n",
    "    c2_old=c2\n",
    "    c0=np.mean(cluster0,axis=0)\n",
    "    c1=np.mean(cluster1,axis=0)\n",
    "    c2=np.mean(cluster2,axis=0)\n",
    "    if (c0==c0_old).all() and (c1==c1_old).all() and (c2==c2_old).all():\n",
    "        print(\"cluster no change\")\n",
    "        break\n",
    "    result=cluster\n",
    "    \n",
    "    "
   ]
  },
  {
   "cell_type": "code",
   "execution_count": 10,
   "metadata": {},
   "outputs": [
    {
     "name": "stdout",
     "output_type": "stream",
     "text": [
      "[0 2 0 2 1 0 0 2 0 1]\n"
     ]
    }
   ],
   "source": [
    "print(result)"
   ]
  },
  {
   "cell_type": "code",
   "execution_count": null,
   "metadata": {},
   "outputs": [],
   "source": []
  }
 ],
 "metadata": {
  "kernelspec": {
   "display_name": "Python 3",
   "language": "python",
   "name": "python3"
  },
  "language_info": {
   "codemirror_mode": {
    "name": "ipython",
    "version": 3
   },
   "file_extension": ".py",
   "mimetype": "text/x-python",
   "name": "python",
   "nbconvert_exporter": "python",
   "pygments_lexer": "ipython3",
   "version": "3.7.6"
  }
 },
 "nbformat": 4,
 "nbformat_minor": 4
}
