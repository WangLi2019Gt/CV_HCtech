{
 "cells": [
  {
   "cell_type": "code",
   "execution_count": 1,
   "metadata": {},
   "outputs": [],
   "source": [
    "import torch\n",
    "import numpy as np\n",
    "from mnist import MNIST\n",
    "mndata = MNIST('./python-mnist/data')\n",
    "images, labels = mndata.load_training()"
   ]
  },
  {
   "cell_type": "code",
   "execution_count": 2,
   "metadata": {},
   "outputs": [],
   "source": [
    "def get_feature(x):\n",
    "\n",
    "    feature=[0,0,0,0]\n",
    "    xa = np.array(x)\n",
    "    xt = torch.from_numpy(xa.reshape(28,28))\n",
    "    feature=xt.view(1,784)\n",
    "    feature=feature/2550.0\n",
    "    return feature.cuda()\n",
    "def one_hot(gt):\n",
    "    gt_vector = torch.ones(1,10)\n",
    "    gt_vector *= 0\n",
    "    gt_vector[0,gt] = 1\n",
    "    return gt_vector"
   ]
  },
  {
   "cell_type": "code",
   "execution_count": 3,
   "metadata": {},
   "outputs": [],
   "source": [
    "def model(feature,parameters):\n",
    "    y=-1\n",
    "    h = feature.mm(parameters[0])+parameters[1]\n",
    "    h1 = torch.sigmoid(h).mm(parameters[2])+parameters[3]\n",
    "    y =torch.sigmoid(h1)\n",
    "    #y = 1.0/(1.0+torch.exp(-1.*h))\n",
    "    return y\n",
    "def get_acc(image_data,image_label,parameters,start_i=0,end_i=0):\n",
    "\n",
    "    correct=0\n",
    "    if end_i==0:\n",
    "        end_i=len(image_label)\n",
    "    for i in range(start_i,end_i):\n",
    "             #print(image_label[i])\n",
    "             #y = model(get_feature(image_data[i]),weights)\n",
    "             feature = get_feature(image_data[i])\n",
    "             y = model(feature,parameters)\n",
    "             #pdb.set_trace()\n",
    "             gt = image_label[i]\n",
    "             #pred=torch.argmin(torch.abs(y-gt)).item()\n",
    "             #pred = torch.argmin(torch.from_numpy(np.array([torch.min((torch.abs(y-j))).item() for j in range(0,10)]))).item()\n",
    "             #pred = torch.argmin(torch.min(torch.abs(y-1))).item()\n",
    "             pred = torch.argmax(y).item()\n",
    "             #print(\"图像[%s]得分类结果是:[%s]\"%(gt,pred))\n",
    "             if gt==pred:\n",
    "                 correct+=1\n",
    "    #print(\"acc=%s\"%(float(correct/20.0)))\n",
    "    return  float(correct/float(end_i-start_i))"
   ]
  },
  {
   "cell_type": "code",
   "execution_count": 4,
   "metadata": {},
   "outputs": [],
   "source": [
    "from tqdm import tqdm \n",
    "import torch.nn as nn\n",
    "entroy=nn.CrossEntropyLoss()\n",
    "def train_model(train_image_data,train_image_label,test_image_data,test_image_label,parameters,lr):\n",
    "    loss_value_before=1000000000000000.\n",
    "    loss_value=10000000000000.\n",
    "    for epoch in range(0,50):\n",
    "        loss_value_before=loss_value\n",
    "        loss_value=0\n",
    "        print(\"epoch=%s\"%(epoch))\n",
    "        for i in tqdm(range(len(train_image_label))):\n",
    "            #print(image_label[i])\n",
    "            #y = model(get_feature(image_data[i]),weights)\n",
    "            feature = get_feature(train_image_data[i])\n",
    "            y = model(feature,parameters)\n",
    "            gt = train_image_label[i]\n",
    "            # 只关心一个值\n",
    "            #loss = torch.sum((y[0,gt:gt+1]-gt).mul(y[0,gt:gt+1]-gt))\n",
    "            gt_vector = one_hot(gt).cuda()\n",
    "            #pdb.set_trace()\n",
    "            # 关心所有值\n",
    "            #loss = entroy(y,gt_vector.long())\n",
    "            loss = torch.sum((y-gt_vector).mul(y-gt_vector))\n",
    "            # 用log的方式\n",
    "            #pdb.set_trace()\n",
    "            #loss = -torch.log(y[0,gt])-torch.sum(torch.log(1.0-y[0,0:gt]))-torch.sum(torch.log(1-y[0,gt:-1]))\n",
    "            # 优化loss，正样本接近1，负样本远离1\n",
    "            #loss1 = (y-1.0).mul(y-1.0)\n",
    "            #loss = loss1[0,gt]+torch.sum(1.0/(loss1[0,0:gt]))+torch.sum(1.0/(loss1[0,gt:-1]))\n",
    "            #print(\"%s,%s\"%(y[0,gt:gt+1],gt))\n",
    "            \n",
    "            #loss.data.add_(loss.data) \n",
    "            loss_value += loss.data.item()\n",
    "            loss.data += loss.data\n",
    "            #print(\"loss=%s\"%(loss))\n",
    "            #weights =\n",
    "            # 更新公式\n",
    "            # w  = w - (y-y1)*x*lr\n",
    "            #feature=feature.view(6)\n",
    "            #lr=-lr\n",
    "            #weights[0,0] = weights[0,0]+ (y.item()-image_label[i])*feature[0]*lr\n",
    "            #weights[1,0] = weights[1,0]+ (y.item()-image_label[i])*feature[1]*lr\n",
    "            #weights[2,0] = weights[2,0]+ (y.item()-image_label[i])*feature[2]*lr\n",
    "            #weights[3,0] = weights[3,0]+ (y.item()-image_label[i])*feature[3]*lr\n",
    "            #weights[4,0] = weights[4,0]+ (y.item()-image_label[i])*feature[4]*lr\n",
    "            #weights[5,0] = weights[5,0]+ (y.item()-image_label[i])*feature[5]*lr\n",
    "            #weights[6,0] = weights[6,0]+ (y.item()-image_label[i])*lr\n",
    "            if i%10==0:\n",
    "                loss.backward()\n",
    "                for para in parameters:\n",
    "                    para.data.sub_(para.grad.data*lr)\n",
    "                    para.grad.data.zero_()\n",
    "                loss.data.zero_()\n",
    "            #loss.data=\n",
    "        #import pdb\n",
    "        #print(\"epoch=%s,loss=%s/%s,weights=%s\"%(epoch,loss_value,loss_value_before,(weights[:,0:2]).view(14)))\n",
    "        train_acc=get_acc(train_image_data,train_image_label,parameters)\n",
    "        test_acc =get_acc(test_image_data,test_image_label,parameters)\n",
    "        print(\"epoch=%s,loss=%s/%s,train/test_acc:%s/%s\"%(epoch,loss_value,loss_value_before,train_acc,test_acc))\n",
    "\n",
    "    return parameters"
   ]
  },
  {
   "cell_type": "code",
   "execution_count": 5,
   "metadata": {},
   "outputs": [
    {
     "name": "stderr",
     "output_type": "stream",
     "text": [
      " 19%|█▉        | 193/1000 [00:00<00:00, 1929.82it/s]"
     ]
    },
    {
     "name": "stdout",
     "output_type": "stream",
     "text": [
      "epoch=0\n"
     ]
    },
    {
     "name": "stderr",
     "output_type": "stream",
     "text": [
      "100%|██████████| 1000/1000 [00:00<00:00, 1973.02it/s]\n",
      " 20%|██        | 202/1000 [00:00<00:00, 2017.31it/s]"
     ]
    },
    {
     "name": "stdout",
     "output_type": "stream",
     "text": [
      "epoch=0,loss=1294.2710938244709/10000000000000.0,train/test_acc:0.107/0.14\n",
      "epoch=1\n"
     ]
    },
    {
     "name": "stderr",
     "output_type": "stream",
     "text": [
      "100%|██████████| 1000/1000 [00:00<00:00, 1987.77it/s]\n",
      " 20%|██        | 200/1000 [00:00<00:00, 1994.27it/s]"
     ]
    },
    {
     "name": "stdout",
     "output_type": "stream",
     "text": [
      "epoch=1,loss=1032.7824891760247/1294.2710938244709,train/test_acc:0.164/0.215\n",
      "epoch=2\n"
     ]
    },
    {
     "name": "stderr",
     "output_type": "stream",
     "text": [
      "100%|██████████| 1000/1000 [00:00<00:00, 1988.21it/s]\n",
      " 20%|██        | 204/1000 [00:00<00:00, 2030.53it/s]"
     ]
    },
    {
     "name": "stdout",
     "output_type": "stream",
     "text": [
      "epoch=2,loss=1044.8056518884841/1032.7824891760247,train/test_acc:0.145/0.15\n",
      "epoch=3\n"
     ]
    },
    {
     "name": "stderr",
     "output_type": "stream",
     "text": [
      "100%|██████████| 1000/1000 [00:00<00:00, 2032.84it/s]\n",
      " 20%|██        | 202/1000 [00:00<00:00, 2017.09it/s]"
     ]
    },
    {
     "name": "stdout",
     "output_type": "stream",
     "text": [
      "epoch=3,loss=962.9016636069864/1044.8056518884841,train/test_acc:0.143/0.15\n",
      "epoch=4\n"
     ]
    },
    {
     "name": "stderr",
     "output_type": "stream",
     "text": [
      "100%|██████████| 1000/1000 [00:00<00:00, 2042.47it/s]\n",
      " 21%|██        | 206/1000 [00:00<00:00, 2052.35it/s]"
     ]
    },
    {
     "name": "stdout",
     "output_type": "stream",
     "text": [
      "epoch=4,loss=896.7744285948575/962.9016636069864,train/test_acc:0.219/0.335\n",
      "epoch=5\n"
     ]
    },
    {
     "name": "stderr",
     "output_type": "stream",
     "text": [
      "100%|██████████| 1000/1000 [00:00<00:00, 2033.26it/s]\n",
      " 21%|██        | 206/1000 [00:00<00:00, 2059.12it/s]"
     ]
    },
    {
     "name": "stdout",
     "output_type": "stream",
     "text": [
      "epoch=5,loss=842.7149833296426/896.7744285948575,train/test_acc:0.256/0.375\n",
      "epoch=6\n"
     ]
    },
    {
     "name": "stderr",
     "output_type": "stream",
     "text": [
      "100%|██████████| 1000/1000 [00:00<00:00, 2018.28it/s]\n",
      " 21%|██        | 206/1000 [00:00<00:00, 2059.74it/s]"
     ]
    },
    {
     "name": "stdout",
     "output_type": "stream",
     "text": [
      "epoch=6,loss=812.2054037468042/842.7149833296426,train/test_acc:0.326/0.43\n",
      "epoch=7\n"
     ]
    },
    {
     "name": "stderr",
     "output_type": "stream",
     "text": [
      "100%|██████████| 1000/1000 [00:00<00:00, 2028.35it/s]\n",
      " 21%|██        | 206/1000 [00:00<00:00, 2055.84it/s]"
     ]
    },
    {
     "name": "stdout",
     "output_type": "stream",
     "text": [
      "epoch=7,loss=773.6568498891429/812.2054037468042,train/test_acc:0.49/0.57\n",
      "epoch=8\n"
     ]
    },
    {
     "name": "stderr",
     "output_type": "stream",
     "text": [
      "100%|██████████| 1000/1000 [00:00<00:00, 2023.48it/s]\n",
      " 21%|██        | 207/1000 [00:00<00:00, 2064.66it/s]"
     ]
    },
    {
     "name": "stdout",
     "output_type": "stream",
     "text": [
      "epoch=8,loss=701.5445761388401/773.6568498891429,train/test_acc:0.485/0.51\n",
      "epoch=9\n"
     ]
    },
    {
     "name": "stderr",
     "output_type": "stream",
     "text": [
      "100%|██████████| 1000/1000 [00:00<00:00, 2051.17it/s]\n",
      " 21%|██        | 206/1000 [00:00<00:00, 2058.18it/s]"
     ]
    },
    {
     "name": "stdout",
     "output_type": "stream",
     "text": [
      "epoch=9,loss=680.1762772181246/701.5445761388401,train/test_acc:0.511/0.6\n",
      "epoch=10\n"
     ]
    },
    {
     "name": "stderr",
     "output_type": "stream",
     "text": [
      "100%|██████████| 1000/1000 [00:00<00:00, 2056.31it/s]\n",
      " 20%|██        | 204/1000 [00:00<00:00, 2037.59it/s]"
     ]
    },
    {
     "name": "stdout",
     "output_type": "stream",
     "text": [
      "epoch=10,loss=685.0207247210201/680.1762772181246,train/test_acc:0.545/0.61\n",
      "epoch=11\n"
     ]
    },
    {
     "name": "stderr",
     "output_type": "stream",
     "text": [
      "100%|██████████| 1000/1000 [00:00<00:00, 2029.10it/s]\n",
      " 20%|██        | 204/1000 [00:00<00:00, 2033.51it/s]"
     ]
    },
    {
     "name": "stdout",
     "output_type": "stream",
     "text": [
      "epoch=11,loss=636.224126718178/685.0207247210201,train/test_acc:0.545/0.635\n",
      "epoch=12\n"
     ]
    },
    {
     "name": "stderr",
     "output_type": "stream",
     "text": [
      "100%|██████████| 1000/1000 [00:00<00:00, 2023.65it/s]\n",
      " 20%|██        | 204/1000 [00:00<00:00, 2033.02it/s]"
     ]
    },
    {
     "name": "stdout",
     "output_type": "stream",
     "text": [
      "epoch=12,loss=631.4703717663851/636.224126718178,train/test_acc:0.52/0.62\n",
      "epoch=13\n"
     ]
    },
    {
     "name": "stderr",
     "output_type": "stream",
     "text": [
      "100%|██████████| 1000/1000 [00:00<00:00, 2040.94it/s]\n",
      " 20%|██        | 204/1000 [00:00<00:00, 2032.80it/s]"
     ]
    },
    {
     "name": "stdout",
     "output_type": "stream",
     "text": [
      "epoch=13,loss=647.5936299864534/631.4703717663851,train/test_acc:0.548/0.615\n",
      "epoch=14\n"
     ]
    },
    {
     "name": "stderr",
     "output_type": "stream",
     "text": [
      "100%|██████████| 1000/1000 [00:00<00:00, 2024.64it/s]\n",
      " 20%|██        | 203/1000 [00:00<00:00, 2023.54it/s]"
     ]
    },
    {
     "name": "stdout",
     "output_type": "stream",
     "text": [
      "epoch=14,loss=587.580046841138/647.5936299864534,train/test_acc:0.574/0.655\n",
      "epoch=15\n"
     ]
    },
    {
     "name": "stderr",
     "output_type": "stream",
     "text": [
      "100%|██████████| 1000/1000 [00:00<00:00, 2015.57it/s]\n",
      " 20%|██        | 205/1000 [00:00<00:00, 2044.12it/s]"
     ]
    },
    {
     "name": "stdout",
     "output_type": "stream",
     "text": [
      "epoch=15,loss=606.5635977767433/587.580046841138,train/test_acc:0.574/0.69\n",
      "epoch=16\n"
     ]
    },
    {
     "name": "stderr",
     "output_type": "stream",
     "text": [
      "100%|██████████| 1000/1000 [00:00<00:00, 2039.25it/s]\n",
      " 20%|██        | 204/1000 [00:00<00:00, 2034.02it/s]"
     ]
    },
    {
     "name": "stdout",
     "output_type": "stream",
     "text": [
      "epoch=16,loss=575.5824265410087/606.5635977767433,train/test_acc:0.607/0.685\n",
      "epoch=17\n"
     ]
    },
    {
     "name": "stderr",
     "output_type": "stream",
     "text": [
      "100%|██████████| 1000/1000 [00:00<00:00, 2054.44it/s]\n",
      " 21%|██        | 210/1000 [00:00<00:00, 2098.78it/s]"
     ]
    },
    {
     "name": "stdout",
     "output_type": "stream",
     "text": [
      "epoch=17,loss=550.7769793319057/575.5824265410087,train/test_acc:0.638/0.72\n",
      "epoch=18\n"
     ]
    },
    {
     "name": "stderr",
     "output_type": "stream",
     "text": [
      "100%|██████████| 1000/1000 [00:00<00:00, 2042.82it/s]\n",
      " 21%|██        | 206/1000 [00:00<00:00, 2057.53it/s]"
     ]
    },
    {
     "name": "stdout",
     "output_type": "stream",
     "text": [
      "epoch=18,loss=529.387366248457/550.7769793319057,train/test_acc:0.624/0.715\n",
      "epoch=19\n"
     ]
    },
    {
     "name": "stderr",
     "output_type": "stream",
     "text": [
      "100%|██████████| 1000/1000 [00:00<00:00, 2043.89it/s]\n",
      " 20%|██        | 203/1000 [00:00<00:00, 2028.72it/s]"
     ]
    },
    {
     "name": "stdout",
     "output_type": "stream",
     "text": [
      "epoch=19,loss=530.9611474473857/529.387366248457,train/test_acc:0.626/0.695\n",
      "epoch=20\n"
     ]
    },
    {
     "name": "stderr",
     "output_type": "stream",
     "text": [
      "100%|██████████| 1000/1000 [00:00<00:00, 2042.76it/s]\n",
      " 20%|██        | 203/1000 [00:00<00:00, 2028.96it/s]"
     ]
    },
    {
     "name": "stdout",
     "output_type": "stream",
     "text": [
      "epoch=20,loss=538.6915714312318/530.9611474473857,train/test_acc:0.634/0.705\n",
      "epoch=21\n"
     ]
    },
    {
     "name": "stderr",
     "output_type": "stream",
     "text": [
      "100%|██████████| 1000/1000 [00:00<00:00, 2022.89it/s]\n",
      " 21%|██        | 211/1000 [00:00<00:00, 2093.13it/s]"
     ]
    },
    {
     "name": "stdout",
     "output_type": "stream",
     "text": [
      "epoch=21,loss=503.85437554638906/538.6915714312318,train/test_acc:0.64/0.7\n",
      "epoch=22\n"
     ]
    },
    {
     "name": "stderr",
     "output_type": "stream",
     "text": [
      "100%|██████████| 1000/1000 [00:00<00:00, 2032.15it/s]\n",
      " 21%|██        | 206/1000 [00:00<00:00, 2054.73it/s]"
     ]
    },
    {
     "name": "stdout",
     "output_type": "stream",
     "text": [
      "epoch=22,loss=504.6010792336947/503.85437554638906,train/test_acc:0.644/0.705\n",
      "epoch=23\n"
     ]
    },
    {
     "name": "stderr",
     "output_type": "stream",
     "text": [
      "100%|██████████| 1000/1000 [00:00<00:00, 2035.38it/s]\n",
      " 20%|██        | 203/1000 [00:00<00:00, 2028.15it/s]"
     ]
    },
    {
     "name": "stdout",
     "output_type": "stream",
     "text": [
      "epoch=23,loss=503.2090293012882/504.6010792336947,train/test_acc:0.645/0.715\n",
      "epoch=24\n"
     ]
    },
    {
     "name": "stderr",
     "output_type": "stream",
     "text": [
      "100%|██████████| 1000/1000 [00:00<00:00, 2026.73it/s]\n",
      " 20%|██        | 205/1000 [00:00<00:00, 2042.18it/s]"
     ]
    },
    {
     "name": "stdout",
     "output_type": "stream",
     "text": [
      "epoch=24,loss=501.91831360851165/503.2090293012882,train/test_acc:0.642/0.715\n",
      "epoch=25\n"
     ]
    },
    {
     "name": "stderr",
     "output_type": "stream",
     "text": [
      "100%|██████████| 1000/1000 [00:00<00:00, 2027.34it/s]\n",
      " 21%|██        | 207/1000 [00:00<00:00, 2065.57it/s]"
     ]
    },
    {
     "name": "stdout",
     "output_type": "stream",
     "text": [
      "epoch=25,loss=502.4011889353528/501.91831360851165,train/test_acc:0.633/0.725\n",
      "epoch=26\n"
     ]
    },
    {
     "name": "stderr",
     "output_type": "stream",
     "text": [
      "100%|██████████| 1000/1000 [00:00<00:00, 2048.54it/s]\n",
      " 20%|██        | 203/1000 [00:00<00:00, 2027.74it/s]"
     ]
    },
    {
     "name": "stdout",
     "output_type": "stream",
     "text": [
      "epoch=26,loss=507.81457496575126/502.4011889353528,train/test_acc:0.634/0.725\n",
      "epoch=27\n"
     ]
    },
    {
     "name": "stderr",
     "output_type": "stream",
     "text": [
      "100%|██████████| 1000/1000 [00:00<00:00, 2026.15it/s]\n",
      " 21%|██        | 208/1000 [00:00<00:00, 2071.55it/s]"
     ]
    },
    {
     "name": "stdout",
     "output_type": "stream",
     "text": [
      "epoch=27,loss=512.3498544944695/507.81457496575126,train/test_acc:0.636/0.73\n",
      "epoch=28\n"
     ]
    },
    {
     "name": "stderr",
     "output_type": "stream",
     "text": [
      "100%|██████████| 1000/1000 [00:00<00:00, 2045.60it/s]\n",
      " 20%|██        | 204/1000 [00:00<00:00, 2033.05it/s]"
     ]
    },
    {
     "name": "stdout",
     "output_type": "stream",
     "text": [
      "epoch=28,loss=510.21705928304164/512.3498544944695,train/test_acc:0.636/0.73\n",
      "epoch=29\n"
     ]
    },
    {
     "name": "stderr",
     "output_type": "stream",
     "text": [
      "100%|██████████| 1000/1000 [00:00<00:00, 2000.59it/s]\n",
      " 20%|██        | 200/1000 [00:00<00:00, 1995.32it/s]"
     ]
    },
    {
     "name": "stdout",
     "output_type": "stream",
     "text": [
      "epoch=29,loss=505.6351859819215/510.21705928304164,train/test_acc:0.638/0.73\n",
      "epoch=30\n"
     ]
    },
    {
     "name": "stderr",
     "output_type": "stream",
     "text": [
      "100%|██████████| 1000/1000 [00:00<00:00, 1979.08it/s]\n",
      " 20%|█▉        | 198/1000 [00:00<00:00, 1979.60it/s]"
     ]
    },
    {
     "name": "stdout",
     "output_type": "stream",
     "text": [
      "epoch=30,loss=505.08964163613336/505.6351859819215,train/test_acc:0.639/0.73\n",
      "epoch=31\n"
     ]
    },
    {
     "name": "stderr",
     "output_type": "stream",
     "text": [
      "100%|██████████| 1000/1000 [00:00<00:00, 1983.92it/s]\n",
      " 20%|██        | 203/1000 [00:00<00:00, 2021.01it/s]"
     ]
    },
    {
     "name": "stdout",
     "output_type": "stream",
     "text": [
      "epoch=31,loss=505.78471923672873/505.08964163613336,train/test_acc:0.638/0.73\n",
      "epoch=32\n"
     ]
    },
    {
     "name": "stderr",
     "output_type": "stream",
     "text": [
      "100%|██████████| 1000/1000 [00:00<00:00, 2004.61it/s]\n",
      " 20%|█▉        | 198/1000 [00:00<00:00, 1978.44it/s]"
     ]
    },
    {
     "name": "stdout",
     "output_type": "stream",
     "text": [
      "epoch=32,loss=506.9854856012305/505.78471923672873,train/test_acc:0.638/0.73\n",
      "epoch=33\n"
     ]
    },
    {
     "name": "stderr",
     "output_type": "stream",
     "text": [
      "100%|██████████| 1000/1000 [00:00<00:00, 1957.54it/s]\n",
      " 20%|██        | 201/1000 [00:00<00:00, 1998.42it/s]"
     ]
    },
    {
     "name": "stdout",
     "output_type": "stream",
     "text": [
      "epoch=33,loss=509.49681055262465/506.9854856012305,train/test_acc:0.631/0.725\n",
      "epoch=34\n"
     ]
    },
    {
     "name": "stderr",
     "output_type": "stream",
     "text": [
      "100%|██████████| 1000/1000 [00:00<00:00, 1970.06it/s]\n",
      " 20%|██        | 201/1000 [00:00<00:00, 2004.08it/s]"
     ]
    },
    {
     "name": "stdout",
     "output_type": "stream",
     "text": [
      "epoch=34,loss=520.1425021076232/509.49681055262465,train/test_acc:0.637/0.745\n",
      "epoch=35\n"
     ]
    },
    {
     "name": "stderr",
     "output_type": "stream",
     "text": [
      "100%|██████████| 1000/1000 [00:00<00:00, 1984.24it/s]\n",
      " 20%|█▉        | 197/1000 [00:00<00:00, 1962.80it/s]"
     ]
    },
    {
     "name": "stdout",
     "output_type": "stream",
     "text": [
      "epoch=35,loss=514.6977188538806/520.1425021076232,train/test_acc:0.629/0.73\n",
      "epoch=36\n"
     ]
    },
    {
     "name": "stderr",
     "output_type": "stream",
     "text": [
      "100%|██████████| 1000/1000 [00:00<00:00, 1980.60it/s]\n",
      " 20%|██        | 201/1000 [00:00<00:00, 2001.87it/s]"
     ]
    },
    {
     "name": "stdout",
     "output_type": "stream",
     "text": [
      "epoch=36,loss=511.7740528011526/514.6977188538806,train/test_acc:0.633/0.73\n",
      "epoch=37\n"
     ]
    },
    {
     "name": "stderr",
     "output_type": "stream",
     "text": [
      "100%|██████████| 1000/1000 [00:00<00:00, 2006.04it/s]\n",
      " 20%|██        | 201/1000 [00:00<00:00, 2001.65it/s]"
     ]
    },
    {
     "name": "stdout",
     "output_type": "stream",
     "text": [
      "epoch=37,loss=511.8065526975638/511.7740528011526,train/test_acc:0.632/0.73\n",
      "epoch=38\n"
     ]
    },
    {
     "name": "stderr",
     "output_type": "stream",
     "text": [
      "100%|██████████| 1000/1000 [00:00<00:00, 1994.22it/s]\n",
      " 20%|██        | 204/1000 [00:00<00:00, 2035.76it/s]"
     ]
    },
    {
     "name": "stdout",
     "output_type": "stream",
     "text": [
      "epoch=38,loss=511.86532797733094/511.8065526975638,train/test_acc:0.632/0.73\n",
      "epoch=39\n"
     ]
    },
    {
     "name": "stderr",
     "output_type": "stream",
     "text": [
      "100%|██████████| 1000/1000 [00:00<00:00, 2012.26it/s]\n",
      " 20%|██        | 202/1000 [00:00<00:00, 2010.93it/s]"
     ]
    },
    {
     "name": "stdout",
     "output_type": "stream",
     "text": [
      "epoch=39,loss=511.9413175520449/511.86532797733094,train/test_acc:0.633/0.73\n",
      "epoch=40\n"
     ]
    },
    {
     "name": "stderr",
     "output_type": "stream",
     "text": [
      "100%|██████████| 1000/1000 [00:00<00:00, 2004.96it/s]\n",
      " 20%|██        | 202/1000 [00:00<00:00, 2013.88it/s]"
     ]
    },
    {
     "name": "stdout",
     "output_type": "stream",
     "text": [
      "epoch=40,loss=512.0234106517706/511.9413175520449,train/test_acc:0.631/0.73\n",
      "epoch=41\n"
     ]
    },
    {
     "name": "stderr",
     "output_type": "stream",
     "text": [
      "100%|██████████| 1000/1000 [00:00<00:00, 1987.00it/s]\n",
      " 19%|█▉        | 191/1000 [00:00<00:00, 1903.15it/s]"
     ]
    },
    {
     "name": "stdout",
     "output_type": "stream",
     "text": [
      "epoch=41,loss=512.1055602337873/512.0234106517706,train/test_acc:0.631/0.73\n",
      "epoch=42\n"
     ]
    },
    {
     "name": "stderr",
     "output_type": "stream",
     "text": [
      "100%|██████████| 1000/1000 [00:00<00:00, 1929.17it/s]\n",
      " 20%|██        | 201/1000 [00:00<00:00, 2008.10it/s]"
     ]
    },
    {
     "name": "stdout",
     "output_type": "stream",
     "text": [
      "epoch=42,loss=512.1856910469533/512.1055602337873,train/test_acc:0.631/0.73\n",
      "epoch=43\n"
     ]
    },
    {
     "name": "stderr",
     "output_type": "stream",
     "text": [
      "100%|██████████| 1000/1000 [00:00<00:00, 2005.26it/s]\n",
      " 20%|██        | 201/1000 [00:00<00:00, 1990.92it/s]"
     ]
    },
    {
     "name": "stdout",
     "output_type": "stream",
     "text": [
      "epoch=43,loss=512.2634684357728/512.1856910469533,train/test_acc:0.631/0.73\n",
      "epoch=44\n"
     ]
    },
    {
     "name": "stderr",
     "output_type": "stream",
     "text": [
      "100%|██████████| 1000/1000 [00:00<00:00, 1983.33it/s]\n",
      " 20%|██        | 202/1000 [00:00<00:00, 2011.69it/s]"
     ]
    },
    {
     "name": "stdout",
     "output_type": "stream",
     "text": [
      "epoch=44,loss=512.3391184594526/512.2634684357728,train/test_acc:0.632/0.73\n",
      "epoch=45\n"
     ]
    },
    {
     "name": "stderr",
     "output_type": "stream",
     "text": [
      "100%|██████████| 1000/1000 [00:00<00:00, 2007.53it/s]\n",
      " 20%|██        | 203/1000 [00:00<00:00, 2025.89it/s]"
     ]
    },
    {
     "name": "stdout",
     "output_type": "stream",
     "text": [
      "epoch=45,loss=512.4129528272639/512.3391184594526,train/test_acc:0.632/0.73\n",
      "epoch=46\n"
     ]
    },
    {
     "name": "stderr",
     "output_type": "stream",
     "text": [
      "100%|██████████| 1000/1000 [00:00<00:00, 1995.43it/s]\n",
      " 20%|██        | 201/1000 [00:00<00:00, 2000.77it/s]"
     ]
    },
    {
     "name": "stdout",
     "output_type": "stream",
     "text": [
      "epoch=46,loss=512.4853030185293/512.4129528272639,train/test_acc:0.632/0.735\n",
      "epoch=47\n"
     ]
    },
    {
     "name": "stderr",
     "output_type": "stream",
     "text": [
      "100%|██████████| 1000/1000 [00:00<00:00, 1983.10it/s]\n",
      " 20%|██        | 201/1000 [00:00<00:00, 1997.76it/s]"
     ]
    },
    {
     "name": "stdout",
     "output_type": "stream",
     "text": [
      "epoch=47,loss=512.5563843404933/512.4853030185293,train/test_acc:0.633/0.735\n",
      "epoch=48\n"
     ]
    },
    {
     "name": "stderr",
     "output_type": "stream",
     "text": [
      "100%|██████████| 1000/1000 [00:00<00:00, 1991.70it/s]\n",
      " 20%|██        | 201/1000 [00:00<00:00, 2008.44it/s]"
     ]
    },
    {
     "name": "stdout",
     "output_type": "stream",
     "text": [
      "epoch=48,loss=512.626383357236/512.5563843404933,train/test_acc:0.633/0.735\n",
      "epoch=49\n"
     ]
    },
    {
     "name": "stderr",
     "output_type": "stream",
     "text": [
      "100%|██████████| 1000/1000 [00:00<00:00, 2019.11it/s]\n"
     ]
    },
    {
     "name": "stdout",
     "output_type": "stream",
     "text": [
      "epoch=49,loss=512.6954121972585/512.626383357236,train/test_acc:0.633/0.735\n"
     ]
    }
   ],
   "source": [
    "weights0 = torch.randn(784,30,requires_grad = True).cuda()\n",
    "bias0 = torch.zeros(1,30,requires_grad = True).cuda()\n",
    "weights1= torch.randn(30,10,requires_grad = True).cuda()\n",
    "bias1 = torch.zeros(1,10,requires_grad = True).cuda()\n",
    "parameters=torch.nn.ParameterList([torch.nn.Parameter(weights0),torch.nn.Parameter(bias0),torch.nn.Parameter(weights1),torch.nn.Parameter(bias1)])\n",
    "# hct66 dataset , 10 samples\n",
    "mndata = MNIST('./python-mnist/data/')\n",
    "train_image_data, train_image_label = mndata.load_training()\n",
    "train_image_data=train_image_data[0:1000]\n",
    "train_image_label=train_image_label[0:1000]\n",
    "test_image_data, test_image_label = mndata.load_testing()\n",
    "test_image_data=test_image_data[0:200]\n",
    "test_image_label=test_image_label[0:200]\n",
    "lr = float(3)\n",
    "# 对模型进行训练：\n",
    "parameters = train_model(train_image_data, train_image_label,test_image_data, test_image_label,parameters,lr)"
   ]
  },
  {
   "cell_type": "code",
   "execution_count": 7,
   "metadata": {},
   "outputs": [
    {
     "name": "stdout",
     "output_type": "stream",
     "text": [
      "test_acc:0.735\n"
     ]
    }
   ],
   "source": [
    "#test\n",
    "test_acc =get_acc(test_image_data,test_image_label,parameters)\n",
    "print(\"test_acc:%s\"%(test_acc))"
   ]
  },
  {
   "cell_type": "code",
   "execution_count": null,
   "metadata": {},
   "outputs": [],
   "source": []
  },
  {
   "cell_type": "code",
   "execution_count": null,
   "metadata": {},
   "outputs": [],
   "source": []
  },
  {
   "cell_type": "code",
   "execution_count": null,
   "metadata": {},
   "outputs": [],
   "source": []
  }
 ],
 "metadata": {
  "kernelspec": {
   "display_name": "Python 3",
   "language": "python",
   "name": "python3"
  },
  "language_info": {
   "codemirror_mode": {
    "name": "ipython",
    "version": 3
   },
   "file_extension": ".py",
   "mimetype": "text/x-python",
   "name": "python",
   "nbconvert_exporter": "python",
   "pygments_lexer": "ipython3",
   "version": "3.6.9"
  }
 },
 "nbformat": 4,
 "nbformat_minor": 4
}
